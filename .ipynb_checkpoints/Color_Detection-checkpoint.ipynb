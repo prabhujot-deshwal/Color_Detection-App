{
 "cells": [
  {
   "cell_type": "code",
   "execution_count": 1,
   "id": "177b01c9-066e-4a2c-b684-e1e9d5ca00d5",
   "metadata": {},
   "outputs": [
    {
     "ename": "ModuleNotFoundError",
     "evalue": "No module named 'cv2'",
     "output_type": "error",
     "traceback": [
      "\u001b[1;31m---------------------------------------------------------------------------\u001b[0m",
      "\u001b[1;31mModuleNotFoundError\u001b[0m                       Traceback (most recent call last)",
      "Cell \u001b[1;32mIn[1], line 1\u001b[0m\n\u001b[1;32m----> 1\u001b[0m \u001b[38;5;28;01mimport\u001b[39;00m \u001b[38;5;21;01mcv2\u001b[39;00m\n\u001b[0;32m      2\u001b[0m \u001b[38;5;28;01mimport\u001b[39;00m \u001b[38;5;21;01mnumpy\u001b[39;00m \u001b[38;5;28;01mas\u001b[39;00m \u001b[38;5;21;01mnp\u001b[39;00m\n",
      "\u001b[1;31mModuleNotFoundError\u001b[0m: No module named 'cv2'"
     ]
    }
   ],
   "source": [
    "import cv2\n",
    "import numpy as np"
   ]
  },
  {
   "cell_type": "code",
   "execution_count": 6,
   "id": "e5862eaa-66d3-4796-909f-e14ba14f7a13",
   "metadata": {},
   "outputs": [],
   "source": [
    "web = cv2.VideoCapture(0)"
   ]
  },
  {
   "cell_type": "code",
   "execution_count": 7,
   "id": "ca4372c8-7403-4486-8aaf-0a8f7ed59a56",
   "metadata": {},
   "outputs": [],
   "source": [
    "while True:\n",
    "    res, img = web.read()\n",
    "    hsv = cv2.cvtColor(img, cv2.COLOR_BGR2HSV)\n",
    "\n",
    "    # Red Color (Two Ranges)\n",
    "    lower_red1 = np.array([0, 150, 50], np.uint8)\n",
    "    upper_red1 = np.array([10, 255, 255], np.uint8)\n",
    "    lower_red2 = np.array([170, 150, 50], np.uint8)\n",
    "    upper_red2 = np.array([180, 255, 255], np.uint8)\n",
    "\n",
    "    mask_red1 = cv2.inRange(hsv, lower_red1, upper_red1)\n",
    "    mask_red2 = cv2.inRange(hsv, lower_red2, upper_red2)\n",
    "    redM = mask_red1 + mask_red2  # Combine both red masks\n",
    "\n",
    "    # Blue Color\n",
    "    blue_lower = np.array([100, 150, 70], np.uint8)\n",
    "    blue_upr = np.array([140, 255, 255], np.uint8)\n",
    "    blueM = cv2.inRange(hsv, blue_lower, blue_upr)\n",
    "\n",
    "    # Green Color\n",
    "    green_lower = np.array([40, 70, 70], np.uint8)\n",
    "    green_upr = np.array([80, 250, 250], np.uint8)\n",
    "    greenM = cv2.inRange(hsv, green_lower, green_upr)\n",
    "\n",
    "    # Dilation\n",
    "    kernel = np.ones((5, 5), np.uint8)\n",
    "    redM = cv2.dilate(redM, kernel)\n",
    "    greenM = cv2.dilate(greenM, kernel)\n",
    "    blueM = cv2.dilate(blueM, kernel)\n",
    "\n",
    "    # Masking\n",
    "    red = cv2.bitwise_and(img, img, mask=redM)\n",
    "    green = cv2.bitwise_and(img, img, mask=greenM)\n",
    "    blue = cv2.bitwise_and(img, img, mask=blueM)\n",
    "\n",
    "    # Contour detection for Red\n",
    "    cont, heir = cv2.findContours(redM, cv2.RETR_TREE, cv2.CHAIN_APPROX_SIMPLE)\n",
    "    for pic, cont in enumerate(cont):\n",
    "        area = cv2.contourArea(cont)\n",
    "        if area > 300:\n",
    "            x, y, w, h = cv2.boundingRect(cont)\n",
    "            img = cv2.rectangle(img, (x, y), (x + w, y + h), (0, 0, 255), 2)\n",
    "            cv2.putText(img, \"Red Colour\", (x, y), cv2.FONT_HERSHEY_SIMPLEX, 1.0, (0, 0, 255))\n",
    "\n",
    "    # Contour detection for Green\n",
    "    cont1, heir1 = cv2.findContours(greenM, cv2.RETR_TREE, cv2.CHAIN_APPROX_SIMPLE)\n",
    "    for pic, cont1 in enumerate(cont1):\n",
    "        area1 = cv2.contourArea(cont1)\n",
    "        if area1 > 300:\n",
    "            x, y, w, h = cv2.boundingRect(cont1)\n",
    "            img = cv2.rectangle(img, (x, y), (x + w, y + h), (0, 255, 0), 2)\n",
    "            cv2.putText(img, \"Green Colour\", (x, y), cv2.FONT_HERSHEY_SIMPLEX, 1.0, (0, 255, 0))\n",
    "\n",
    "    # Contour detection for Blue\n",
    "    cont2, heir2 = cv2.findContours(blueM, cv2.RETR_TREE, cv2.CHAIN_APPROX_SIMPLE)\n",
    "    for pic, cont2 in enumerate(cont2):\n",
    "        area2 = cv2.contourArea(cont2)\n",
    "        if area2 > 300:\n",
    "            x, y, w, h = cv2.boundingRect(cont2)\n",
    "            img = cv2.rectangle(img, (x, y), (x + w, y + h), (255, 0, 0), 2)\n",
    "            cv2.putText(img, \"Blue Colour\", (x, y), cv2.FONT_HERSHEY_SIMPLEX, 1.0, (255, 0, 0))\n",
    "\n",
    "    cv2.imshow(\"COLOUR DETECTION\", img)\n",
    "    \n",
    "    if cv2.waitKey(27) & 0xFF == ord('q'):\n",
    "        web.release()\n",
    "        cv2.destroyAllWindows()\n",
    "        break\n"
   ]
  },
  {
   "cell_type": "code",
   "execution_count": null,
   "id": "02f81405-2297-46fa-b25f-571bfd7f658f",
   "metadata": {},
   "outputs": [],
   "source": []
  },
  {
   "cell_type": "code",
   "execution_count": null,
   "id": "33529e69-2108-4082-824b-15fb3872ee0e",
   "metadata": {},
   "outputs": [],
   "source": []
  },
  {
   "cell_type": "code",
   "execution_count": null,
   "id": "1634e574-9e4e-4cce-9fd5-f8de45fee537",
   "metadata": {},
   "outputs": [],
   "source": []
  },
  {
   "cell_type": "code",
   "execution_count": null,
   "id": "50073880-547d-4fa6-b342-4e522b38d2aa",
   "metadata": {},
   "outputs": [],
   "source": []
  }
 ],
 "metadata": {
  "kernelspec": {
   "display_name": "base",
   "language": "python",
   "name": "python3"
  },
  "language_info": {
   "codemirror_mode": {
    "name": "ipython",
    "version": 3
   },
   "file_extension": ".py",
   "mimetype": "text/x-python",
   "name": "python",
   "nbconvert_exporter": "python",
   "pygments_lexer": "ipython3",
   "version": "3.12.7"
  }
 },
 "nbformat": 4,
 "nbformat_minor": 5
}
